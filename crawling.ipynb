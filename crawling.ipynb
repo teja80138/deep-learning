{
 "cells": [
  {
   "cell_type": "code",
   "execution_count": 18,
   "id": "af0bdcbd-6fa8-4b96-8688-93e2a0ef5360",
   "metadata": {},
   "outputs": [],
   "source": [
    "import requests\n"
   ]
  },
  {
   "cell_type": "code",
   "execution_count": 19,
   "id": "2386d74b-a5b4-42e4-8baa-6745f750d17a",
   "metadata": {},
   "outputs": [
    {
     "name": "stdout",
     "output_type": "stream",
     "text": [
      "Data saved to iclr2024_reviews.csv\n"
     ]
    }
   ],
   "source": [
    "from bs4 import BeautifulSoup\n",
    "import csv\n",
    "\n",
    "url = 'https://openreview.net/forum?id=KS8mIvetg2'\n",
    "response = requests.get(url)\n",
    "\n",
    "if response.status_code == 200:\n",
    "    soup = BeautifulSoup(response.content, 'html.parser')\n",
    "\n",
    "    papers = soup.find_all('div', class_='note')\n",
    "\n",
    "    with open('iclr2024_reviews.csv', mode='w', newline='', encoding='utf-8') as file:\n",
    "        writer = csv.writer(file)\n",
    "        writer.writerow(['Title', 'Authors', 'Abstract']) \n",
    "\n",
    "        for paper in papers:\n",
    "            title = paper.find('h4', class_='title').text.strip()\n",
    "            authors = paper.find('span', class_='authors').text.strip()\n",
    "            abstract = paper.find('p', class_='abstract').text.strip()\n",
    "            writer.writerow([title, authors, abstract])\n",
    "\n",
    "    print('Data saved to iclr2024_reviews.csv')\n",
    "else:\n",
    "    print(f\"Failed to retrieve the webpage. Status code: {response.status_code}\")"
   ]
  },
  {
   "cell_type": "code",
   "execution_count": null,
   "id": "0bd9c803-1cdd-488e-813e-2dd63013f873",
   "metadata": {},
   "outputs": [],
   "source": []
  }
 ],
 "metadata": {
  "kernelspec": {
   "display_name": "Python 3 (ipykernel)",
   "language": "python",
   "name": "python3"
  },
  "language_info": {
   "codemirror_mode": {
    "name": "ipython",
    "version": 3
   },
   "file_extension": ".py",
   "mimetype": "text/x-python",
   "name": "python",
   "nbconvert_exporter": "python",
   "pygments_lexer": "ipython3",
   "version": "3.10.12"
  }
 },
 "nbformat": 4,
 "nbformat_minor": 5
}
